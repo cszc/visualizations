{
 "cells": [
  {
   "cell_type": "code",
   "execution_count": 47,
   "metadata": {
    "collapsed": false
   },
   "outputs": [],
   "source": [
    "import json\n",
    "\n",
    "'''\n",
    "The plan is to extract the clean fuel values from fuels_data.\n",
    "Then, we'll add a new property called \"value\" to the \"property\" dict for each country in the countries dictionary.\n",
    "'''\n",
    "\n",
    "# Clean Fuels Data by Country from Who\n",
    "# source: http://apps.who.int/gho/data/node.main.SDGFUELS712?lang=en\n",
    "with open('SDGPOLLUTINGFUELS.json', 'r') as f:\n",
    "    fuels_data = json.load(f)\n",
    "    \n",
    "# geojson of countries\n",
    "# source: https://raw.githubusercontent.com/johan/world.geo.json/master/countries.geo.json\n",
    "with open('countries.geo.json', 'r') as f:\n",
    "    countries = json.load(f)\n",
    "    \n",
    "# new dictionary limited to just information we need\n",
    "fuels_relevant = fuels_data['fact']\n",
    "\n",
    "# instantiate new dict to store countries and their values\n",
    "# values represent % of population with primary reliance on clean fuels\n",
    "values = {}"
   ]
  },
  {
   "cell_type": "code",
   "execution_count": 48,
   "metadata": {
    "collapsed": false
   },
   "outputs": [
    {
     "name": "stdout",
     "output_type": "stream",
     "text": [
      "fuel data keys: ['dimension', 'fact']\n",
      "country keys: ['type', 'features']\n",
      "\n",
      "Relevant Fuel Data Example (fuels_data['fact']) \n",
      " [{'Value': '79', 'dim': {'PUBLISHSTATE': 'Published', 'GHO': 'Proportion of population with primary reliance on clean fuels (%)', 'COUNTRY': 'Bolivia (Plurinational State of)', 'REGION': 'Americas', 'YEAR': '2014'}}] \n",
      "\n",
      "Country Data Example (countries['features']) \n",
      " [{'properties': {'name': 'Afghanistan'}, 'type': 'Feature', 'id': 'AFG', 'geometry': {'type': 'Polygon', 'coordinates': [[[61.210817, 35.650072], [62.230651, 35.270664], [62.984662, 35.404041], [63.193538, 35.857166], [63.982896, 36.007957], [64.546479, 36.312073], [64.746105, 37.111818], [65.588948, 37.305217], [65.745631, 37.661164], [66.217385, 37.39379], [66.518607, 37.362784], [67.075782, 37.356144], [67.83, 37.144994], [68.135562, 37.023115], [68.859446, 37.344336], [69.196273, 37.151144], [69.518785, 37.608997], [70.116578, 37.588223], [70.270574, 37.735165], [70.376304, 38.138396], [70.806821, 38.486282], [71.348131, 38.258905], [71.239404, 37.953265], [71.541918, 37.905774], [71.448693, 37.065645], [71.844638, 36.738171], [72.193041, 36.948288], [72.63689, 37.047558], [73.260056, 37.495257], [73.948696, 37.421566], [74.980002, 37.41999], [75.158028, 37.133031], [74.575893, 37.020841], [74.067552, 36.836176], [72.920025, 36.720007], [71.846292, 36.509942], [71.262348, 36.074388], [71.498768, 35.650563], [71.613076, 35.153203], [71.115019, 34.733126], [71.156773, 34.348911], [70.881803, 33.988856], [69.930543, 34.02012], [70.323594, 33.358533], [69.687147, 33.105499], [69.262522, 32.501944], [69.317764, 31.901412], [68.926677, 31.620189], [68.556932, 31.71331], [67.792689, 31.58293], [67.683394, 31.303154], [66.938891, 31.304911], [66.381458, 30.738899], [66.346473, 29.887943], [65.046862, 29.472181], [64.350419, 29.560031], [64.148002, 29.340819], [63.550261, 29.468331], [62.549857, 29.318572], [60.874248, 29.829239], [61.781222, 30.73585], [61.699314, 31.379506], [60.941945, 31.548075], [60.863655, 32.18292], [60.536078, 32.981269], [60.9637, 33.528832], [60.52843, 33.676446], [60.803193, 34.404102], [61.210817, 35.650072]]]}}] \n",
      "\n"
     ]
    }
   ],
   "source": [
    "# Let's take a look at our data\n",
    "print('fuel data keys:', list(fuels_data.keys()))\n",
    "print('country keys:', list(countries.keys()))\n",
    "print()\n",
    "print('Relevant Fuel Data Example (fuels_data[\\'fact\\']) \\n', take(1, fuels_relevant), '\\n')\n",
    "print('Country Data Example (countries[\\'features\\']) \\n', take(1, countries['features']), '\\n')"
   ]
  },
  {
   "cell_type": "code",
   "execution_count": 49,
   "metadata": {
    "collapsed": false
   },
   "outputs": [],
   "source": [
    "# populating our new values dictionary. removing <> signs.\n",
    "for country in fuels_relevant:\n",
    "    name = country['dim']['COUNTRY']\n",
    "    value = country['Value']\n",
    "    if value == '>95':\n",
    "        value = '95'\n",
    "    if value == '<5':\n",
    "        value = '5'\n",
    "    values[name] = value"
   ]
  },
  {
   "cell_type": "code",
   "execution_count": 50,
   "metadata": {
    "collapsed": false
   },
   "outputs": [
    {
     "data": {
      "text/plain": [
       "[('Comoros', '7'),\n",
       " ('Bahamas', '95'),\n",
       " ('Iraq', '95'),\n",
       " ('Costa Rica', '95'),\n",
       " ('El Salvador', '83'),\n",
       " ('Guatemala', '36'),\n",
       " ('Sweden', '95'),\n",
       " ('Ghana', '21'),\n",
       " ('Lebanon', '95'),\n",
       " ('Mozambique', '5')]"
      ]
     },
     "execution_count": 50,
     "metadata": {},
     "output_type": "execute_result"
    }
   ],
   "source": [
    "# a few examples from our values dictionary\n",
    "take(10, values.items())"
   ]
  },
  {
   "cell_type": "code",
   "execution_count": 51,
   "metadata": {
    "collapsed": false
   },
   "outputs": [],
   "source": [
    "# Adding a field called 'value' to each country's 'properties' dictionary.\n",
    "# note: the country names in each data set don't exactly match up, so we're\n",
    "# keeping track of those in 'fails' and will address them later\n",
    "fails = []\n",
    "for item in countries['features']:\n",
    "    name = item['properties']['name']\n",
    "    try:\n",
    "        item['properties']['value'] = values[name]\n",
    "    except:\n",
    "        fails.append(name)"
   ]
  },
  {
   "cell_type": "code",
   "execution_count": 52,
   "metadata": {
    "collapsed": false
   },
   "outputs": [
    {
     "data": {
      "text/plain": [
       "['Antarctica',\n",
       " 'French Southern and Antarctic Lands',\n",
       " 'The Bahamas',\n",
       " 'Bermuda',\n",
       " 'Bolivia',\n",
       " 'Brunei',\n",
       " 'Ivory Coast',\n",
       " 'Republic of the Congo',\n",
       " 'Northern Cyprus',\n",
       " 'Falkland Islands',\n",
       " 'United Kingdom',\n",
       " 'Guinea Bissau',\n",
       " 'Greenland',\n",
       " 'French Guiana',\n",
       " 'Iran',\n",
       " 'South Korea',\n",
       " 'Kosovo',\n",
       " 'Laos',\n",
       " 'Libya',\n",
       " 'Moldova',\n",
       " 'Macedonia',\n",
       " 'New Caledonia',\n",
       " 'Puerto Rico',\n",
       " 'North Korea',\n",
       " 'Russia',\n",
       " 'Western Sahara',\n",
       " 'Somaliland',\n",
       " 'Republic of Serbia',\n",
       " 'Syria',\n",
       " 'East Timor',\n",
       " 'Turkey',\n",
       " 'Taiwan',\n",
       " 'Venezuela',\n",
       " 'Vietnam',\n",
       " 'West Bank']"
      ]
     },
     "execution_count": 52,
     "metadata": {},
     "output_type": "execute_result"
    }
   ],
   "source": [
    "# the countries with no matches\n",
    "fails"
   ]
  },
  {
   "cell_type": "code",
   "execution_count": 54,
   "metadata": {
    "collapsed": false
   },
   "outputs": [
    {
     "data": {
      "text/plain": [
       "{'Bolivia': 'Bolivia (Plurinational State of)',\n",
       " 'Brunei': 'Brunei Darussalam',\n",
       " 'Iran': 'Iran (Islamic Republic of)',\n",
       " 'Macedonia': 'The former Yugoslav republic of Macedonia',\n",
       " 'Moldova': 'Republic of Moldova',\n",
       " 'Republic of the Congo': 'Democratic Republic of the Congo',\n",
       " 'Russia': 'Russian Federation',\n",
       " 'Syria': 'Syrian Arab Republic',\n",
       " 'United Kingdom': 'United Kingdom of Great Britain and Northern Ireland',\n",
       " 'Venezuela': 'Venezuela (Bolivarian Republic of)'}"
      ]
     },
     "execution_count": 54,
     "metadata": {},
     "output_type": "execute_result"
    }
   ],
   "source": [
    "# Let's create a new dictionary of possible matches.\n",
    "possibilities = {}\n",
    "for fail in fails:\n",
    "    for country in list(values.keys()):\n",
    "        if fail in country:\n",
    "            possibilities[fail] = country\n",
    "possibilities"
   ]
  },
  {
   "cell_type": "code",
   "execution_count": 55,
   "metadata": {
    "collapsed": false
   },
   "outputs": [],
   "source": [
    "# Good! There's only one match per country. Now we can go through and look up the correct country name to assign the right value.\n",
    "for country in possibilities.keys():\n",
    "    key = possibilities[country]\n",
    "    for item in countries['features']:\n",
    "        name = item['properties']['name']\n",
    "        if name == country:\n",
    "            item['properties']['value'] = values[key]"
   ]
  },
  {
   "cell_type": "code",
   "execution_count": 49,
   "metadata": {
    "collapsed": true
   },
   "outputs": [],
   "source": [
    "# Finally, let's write it all to a new geojson file\n",
    "with open('cleanfuels.geojson', 'w') as outfile:\n",
    "    json.dump(countries, outfile)"
   ]
  }
 ],
 "metadata": {
  "anaconda-cloud": {},
  "kernelspec": {
   "display_name": "Python [default]",
   "language": "python",
   "name": "python3"
  },
  "language_info": {
   "codemirror_mode": {
    "name": "ipython",
    "version": 3
   },
   "file_extension": ".py",
   "mimetype": "text/x-python",
   "name": "python",
   "nbconvert_exporter": "python",
   "pygments_lexer": "ipython3",
   "version": "3.5.2"
  }
 },
 "nbformat": 4,
 "nbformat_minor": 0
}
